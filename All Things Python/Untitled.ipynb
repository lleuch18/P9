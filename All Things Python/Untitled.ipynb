{
 "cells": [
  {
   "cell_type": "code",
   "execution_count": 2,
   "id": "89f33b9e",
   "metadata": {},
   "outputs": [],
   "source": [
    "import scipy.io as spio"
   ]
  },
  {
   "cell_type": "code",
   "execution_count": 3,
   "id": "96c917cf",
   "metadata": {},
   "outputs": [],
   "source": [
    "mat = spio.loadmat('ex2testDat.mat', squeeze_me = True)"
   ]
  },
  {
   "cell_type": "code",
   "execution_count": 6,
   "id": "97c2f087",
   "metadata": {},
   "outputs": [],
   "source": [
    "test1 = mat['test1']\n",
    "test2 = mat['test2']"
   ]
  },
  {
   "cell_type": "code",
   "execution_count": 8,
   "id": "c0e92c1d",
   "metadata": {},
   "outputs": [
    {
     "data": {
      "text/plain": [
       "array([[12.29, 11.62, 12.47, 11.81, 12.29, 12.37, 12.29, 12.08, 12.6 ,\n",
       "        12.34, 11.82, 12.51, 12.42, 12.25, 12.72, 12.22, 11.61, 11.46,\n",
       "        12.52, 11.76, 11.41, 12.08, 11.03, 11.82, 12.42, 12.77, 12.  ,\n",
       "        11.45, 11.56, 12.42, 13.05, 11.87, 12.07, 12.43, 11.79, 12.37,\n",
       "        12.04],\n",
       "       [ 2.83,  1.99,  1.52,  2.12,  1.41,  1.07,  3.17,  2.08,  1.34,\n",
       "         2.45,  1.72,  1.73,  2.55,  1.73,  1.75,  1.29,  1.35,  3.74,\n",
       "         2.43,  2.68,  0.74,  1.39,  1.51,  1.47,  1.61,  3.43,  3.43,\n",
       "         2.4 ,  2.05,  4.43,  5.8 ,  4.31,  2.16,  1.53,  2.13,  1.63,\n",
       "         4.3 ],\n",
       "       [ 2.22,  2.28,  2.2 ,  2.74,  1.98,  2.1 ,  2.21,  1.7 ,  1.9 ,\n",
       "         2.46,  1.88,  1.98,  2.27,  2.12,  2.28,  1.94,  2.7 ,  1.82,\n",
       "         2.17,  2.92,  2.5 ,  2.5 ,  2.2 ,  1.99,  2.19,  1.98,  2.  ,\n",
       "         2.42,  3.23,  2.73,  2.13,  2.39,  2.17,  2.29,  2.78,  2.3 ,\n",
       "         2.38],\n",
       "       [18.  , 18.  , 19.  , 21.5 , 16.  , 18.5 , 18.  , 17.5 , 18.5 ,\n",
       "        21.  , 19.5 , 20.5 , 22.  , 19.  , 22.5 , 19.  , 20.  , 19.5 ,\n",
       "        21.  , 20.  , 21.  , 22.5 , 21.5 , 20.8 , 22.5 , 16.  , 19.  ,\n",
       "        20.  , 28.5 , 26.5 , 21.5 , 21.  , 21.  , 21.5 , 28.5 , 24.5 ,\n",
       "        22.  ]])"
      ]
     },
     "execution_count": 8,
     "metadata": {},
     "output_type": "execute_result"
    }
   ],
   "source": [
    "test2"
   ]
  },
  {
   "cell_type": "code",
   "execution_count": null,
   "id": "ab390b5f",
   "metadata": {},
   "outputs": [],
   "source": []
  }
 ],
 "metadata": {
  "kernelspec": {
   "display_name": "Python 3 (ipykernel)",
   "language": "python",
   "name": "python3"
  },
  "language_info": {
   "codemirror_mode": {
    "name": "ipython",
    "version": 3
   },
   "file_extension": ".py",
   "mimetype": "text/x-python",
   "name": "python",
   "nbconvert_exporter": "python",
   "pygments_lexer": "ipython3",
   "version": "3.9.13"
  }
 },
 "nbformat": 4,
 "nbformat_minor": 5
}
