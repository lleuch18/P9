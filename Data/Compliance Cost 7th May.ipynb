{
 "cells": [
  {
   "cell_type": "code",
   "execution_count": 2,
   "id": "07a1296b",
   "metadata": {},
   "outputs": [],
   "source": [
    "import plotly.express as px\n",
    "import pandas as pd\n",
    "import numpy as np\n",
    "import matplotlib.pyplot as plt\n",
    "import Data_Explo_HELPER as halp\n",
    "import Compl_Algo_Helper as comp_halp\n",
    "import math\n",
    "from typing import List"
   ]
  },
  {
   "cell_type": "code",
   "execution_count": 4,
   "id": "05bfbe6f",
   "metadata": {},
   "outputs": [
    {
     "name": "stdout",
     "output_type": "stream",
     "text": [
      "NOTE: For patient 5, 16 and 21, missing values have been imputated \n",
      "The imputated values are are:\n",
      "Patient 5: part 3 \n",
      "Patient 16: part 4 \n",
      "Patient 21: part 2\n",
      "NOTE: For patient 5, 16 and 21, missing values have been imputated \n",
      "The imputated values are are:\n",
      "Patient 5: part 3 \n",
      "Patient 16: part 4 \n",
      "Patient 21: part 2\n",
      "created DF\n",
      "1ModifiedPeso \n",
      " 1ModifiedPao \n",
      " 1breath_col \n",
      "ModPeso len: 35984\n",
      "amt of peaks at part 1: 89\n"
     ]
    },
    {
     "ename": "TypeError",
     "evalue": "can't multiply sequence by non-int of type 'numpy.float64'",
     "output_type": "error",
     "traceback": [
      "\u001b[1;31m---------------------------------------------------------------------------\u001b[0m",
      "\u001b[1;31mTypeError\u001b[0m                                 Traceback (most recent call last)",
      "Cell \u001b[1;32mIn[4], line 10\u001b[0m\n\u001b[0;32m      7\u001b[0m PS, PEEP \u001b[38;5;241m=\u001b[39m halp\u001b[38;5;241m.\u001b[39mVentilator()\u001b[38;5;241m.\u001b[39mget_Settings(\u001b[38;5;28mstr\u001b[39m(patient))\n\u001b[0;32m      9\u001b[0m \u001b[38;5;66;03m#Calculate variables based on breath\u001b[39;00m\n\u001b[1;32m---> 10\u001b[0m esoData_bins \u001b[38;5;241m=\u001b[39m \u001b[43mcomp_halp\u001b[49m\u001b[38;5;241;43m.\u001b[39;49m\u001b[43mbin_divider\u001b[49m\u001b[43m(\u001b[49m\u001b[43mesoData\u001b[49m\u001b[43m,\u001b[49m\u001b[43mbreathD\u001b[49m\u001b[43m,\u001b[49m\u001b[43mPEEP\u001b[49m\u001b[43m)\u001b[49m\n\u001b[0;32m     12\u001b[0m \u001b[38;5;66;03m#Load color and housekeeping\u001b[39;00m\n\u001b[0;32m     13\u001b[0m color \u001b[38;5;241m=\u001b[39m comp_halp\u001b[38;5;241m.\u001b[39mcolor\n",
      "File \u001b[1;32m~\\OneDrive\\Skrivebord\\ST9\\P9\\Data\\Compl_Algo_Helper.py:153\u001b[0m, in \u001b[0;36mbin_divider\u001b[1;34m(esoData, breathD, PEEP, verbose)\u001b[0m\n\u001b[0;32m    151\u001b[0m esoData_bins\u001b[38;5;241m.\u001b[39mat[peak,exp_Time_Const] \u001b[38;5;241m=\u001b[39m esoData_bins\u001b[38;5;241m.\u001b[39mat[peak,exp_Vt]\u001b[38;5;241m/\u001b[39mesoData_bins\u001b[38;5;241m.\u001b[39mat[peak,exp_Flow]\n\u001b[0;32m    152\u001b[0m \u001b[38;5;66;03m#Calculate Pplat\u001b[39;00m\n\u001b[1;32m--> 153\u001b[0m esoData_bins\u001b[38;5;241m.\u001b[39mat[peak,Pplat] \u001b[38;5;241m=\u001b[39m \u001b[43mPplat_method\u001b[49m\u001b[43m(\u001b[49m\u001b[43mesoData_bins\u001b[49m\u001b[38;5;241;43m.\u001b[39;49m\u001b[43mat\u001b[49m\u001b[43m[\u001b[49m\u001b[43mpeak\u001b[49m\u001b[43m,\u001b[49m\u001b[43minsp_Vt\u001b[49m\u001b[43m]\u001b[49m\u001b[43m,\u001b[49m\n\u001b[0;32m    154\u001b[0m \u001b[43m                                           \u001b[49m\u001b[43mesoData_bins\u001b[49m\u001b[38;5;241;43m.\u001b[39;49m\u001b[43mat\u001b[49m\u001b[43m[\u001b[49m\u001b[43mpeak\u001b[49m\u001b[43m,\u001b[49m\u001b[43mModifiedPao\u001b[49m\u001b[43m]\u001b[49m\u001b[43m,\u001b[49m\n\u001b[0;32m    155\u001b[0m \u001b[43m                                           \u001b[49m\u001b[43mPEEP\u001b[49m\u001b[43m,\u001b[49m\n\u001b[0;32m    156\u001b[0m \u001b[43m                                           \u001b[49m\u001b[43mesoData_bins\u001b[49m\u001b[38;5;241;43m.\u001b[39;49m\u001b[43mat\u001b[49m\u001b[43m[\u001b[49m\u001b[43mpeak\u001b[49m\u001b[43m,\u001b[49m\u001b[43mexp_Time_Const\u001b[49m\u001b[43m]\u001b[49m\u001b[43m,\u001b[49m\n\u001b[0;32m    157\u001b[0m \u001b[43m                                           \u001b[49m\u001b[43mesoData_bins\u001b[49m\u001b[38;5;241;43m.\u001b[39;49m\u001b[43mat\u001b[49m\u001b[43m[\u001b[49m\u001b[43mpeak\u001b[49m\u001b[43m,\u001b[49m\u001b[43minsp_Flow\u001b[49m\u001b[43m]\u001b[49m\n\u001b[0;32m    158\u001b[0m \u001b[43m                                           \u001b[49m\u001b[43m)\u001b[49m\n\u001b[0;32m    159\u001b[0m \u001b[38;5;66;03m#Calculate Raw = (PIP-Pplat)/Flow\u001b[39;00m\n\u001b[0;32m    160\u001b[0m esoData_bins\u001b[38;5;241m.\u001b[39mat[peak,insp_Raw] \u001b[38;5;241m=\u001b[39m (esoData_bins\u001b[38;5;241m.\u001b[39mat[peak,ModifiedPao]\u001b[38;5;241m-\u001b[39mesoData_bins\u001b[38;5;241m.\u001b[39mat[peak,Pplat])\u001b[38;5;241m/\u001b[39mesoData_bins\u001b[38;5;241m.\u001b[39mat[peak,insp_Flow]\n",
      "File \u001b[1;32m~\\OneDrive\\Skrivebord\\ST9\\P9\\Data\\Compl_Algo_Helper.py:67\u001b[0m, in \u001b[0;36mPplat_method\u001b[1;34m(Vt, PIP, PEEP, exp_t_const, mean_insp_flow)\u001b[0m\n\u001b[0;32m     66\u001b[0m \u001b[38;5;28;01mdef\u001b[39;00m \u001b[38;5;21mPplat_method\u001b[39m(Vt,PIP,PEEP,exp_t_const,mean_insp_flow):\n\u001b[1;32m---> 67\u001b[0m     Pplat \u001b[38;5;241m=\u001b[39m ((Vt\u001b[38;5;241m*\u001b[39mPIP)\u001b[38;5;241m-\u001b[39m(\u001b[43mVt\u001b[49m\u001b[38;5;241;43m*\u001b[39;49m\u001b[43mPEEP\u001b[49m))\u001b[38;5;241m/\u001b[39mVt\u001b[38;5;241m+\u001b[39m(exp_t_const\u001b[38;5;241m*\u001b[39mmean_insp_flow)\n\u001b[0;32m     69\u001b[0m     \u001b[38;5;28;01mreturn\u001b[39;00m Pplat\n",
      "\u001b[1;31mTypeError\u001b[0m: can't multiply sequence by non-int of type 'numpy.float64'"
     ]
    }
   ],
   "source": [
    "#Load Patientdata\n",
    "patient = 11\n",
    "breathD,esoData,FFFT = halp.patientManager(patient,'entire')\n",
    "\n",
    "#Load Vent_Settings\n",
    "Vent_Setting = halp.Ventilator()\n",
    "PS, PEEP = halp.Ventilator().get_Settings(str(patient))\n",
    "\n",
    "#Calculate variables based on breath\n",
    "esoData_bins = comp_halp.bin_divider(esoData,breathD,PEEP)\n",
    "\n",
    "#Load color and housekeeping\n",
    "color = comp_halp.color\n",
    "hk_parts = {}\n",
    "\n",
    "#Perform grid_search\n",
    "hk_parts = comp_halp.grid_search_full(esoData,esoData_bins,breathD,pat_nr)"
   ]
  }
 ],
 "metadata": {
  "kernelspec": {
   "display_name": "Python 3 (ipykernel)",
   "language": "python",
   "name": "python3"
  },
  "language_info": {
   "codemirror_mode": {
    "name": "ipython",
    "version": 3
   },
   "file_extension": ".py",
   "mimetype": "text/x-python",
   "name": "python",
   "nbconvert_exporter": "python",
   "pygments_lexer": "ipython3",
   "version": "3.10.9"
  }
 },
 "nbformat": 4,
 "nbformat_minor": 5
}
