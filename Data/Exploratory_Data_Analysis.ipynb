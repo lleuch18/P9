{
 "cells": [
  {
   "cell_type": "markdown",
   "id": "812c7c6f",
   "metadata": {},
   "source": [
    "## Imports ##"
   ]
  },
  {
   "cell_type": "code",
   "execution_count": 1,
   "id": "296846ce",
   "metadata": {},
   "outputs": [],
   "source": [
    "from dash import Dash, dcc, html, Input, Output\n",
    "import plotly.express as px\n",
    "import pandas as pd\n",
    "import numpy as np\n",
    "import matplotlib.pyplot as plt\n",
    "import Data_Explo_HELPER as halp\n",
    "import Compl_Algo_Helper as comp_halp\n"
   ]
  },
  {
   "cell_type": "code",
   "execution_count": 2,
   "id": "1512f77c",
   "metadata": {},
   "outputs": [
    {
     "ename": "NameError",
     "evalue": "name 'esoData' is not defined",
     "output_type": "error",
     "traceback": [
      "\u001b[1;31m---------------------------------------------------------------------------\u001b[0m",
      "\u001b[1;31mNameError\u001b[0m                                 Traceback (most recent call last)",
      "Cell \u001b[1;32mIn[2], line 1\u001b[0m\n\u001b[1;32m----> 1\u001b[0m px\u001b[38;5;241m.\u001b[39mscatter(\u001b[43mesoData\u001b[49m[\u001b[38;5;124m'\u001b[39m\u001b[38;5;124m1ModifiedFlow\u001b[39m\u001b[38;5;124m'\u001b[39m])\n",
      "\u001b[1;31mNameError\u001b[0m: name 'esoData' is not defined"
     ]
    }
   ],
   "source": [
    "px.scatter(esoData['1ModifiedFlow'])"
   ]
  },
  {
   "cell_type": "markdown",
   "id": "22ab9fc2",
   "metadata": {},
   "source": [
    "# Presentation for Supervisor Meeting 6 #"
   ]
  },
  {
   "cell_type": "markdown",
   "id": "4e4ca3a1",
   "metadata": {},
   "source": [
    "### Load Data ###"
   ]
  },
  {
   "cell_type": "code",
   "execution_count": null,
   "id": "7b5775d5",
   "metadata": {},
   "outputs": [],
   "source": [
    "#Return order is breatD, esoData, FFFT\n",
    "breathD, esoData, FFFT = halp.patientManager(3,\"entire\")\n",
    "\n",
    "#Create object holding vent setting\n",
    "Vent_Setting = halp.Ventilator()"
   ]
  },
  {
   "cell_type": "markdown",
   "id": "32134898",
   "metadata": {},
   "source": [
    "### Check Quality of Data"
   ]
  },
  {
   "cell_type": "code",
   "execution_count": null,
   "id": "0b34f8b0",
   "metadata": {},
   "outputs": [],
   "source": [
    "part = 2\n",
    "suffix = str(part)\n",
    "time = suffix + 'Time'\n",
    "modifiedPeso = suffix + 'ModifiedPao'\n",
    "peso = suffix + 'ModifiedPeso'\n",
    "\n",
    "fig = make_subplots(rows=2, cols=1, subplot_titles = ('modifiedPeso','Modifiedpao'))\n",
    "\n",
    "fig.add_trace(\n",
    "    go.Scatter(mode='markers',marker=dict(color='LightSkyBlue',\n",
    "            size=2),x=esoData[time].to_numpy(), y=esoData[peso].to_numpy()),\n",
    "    row=1, col=1\n",
    ")\n",
    "\n",
    "fig.add_trace(\n",
    "    go.Scatter(x=esoData[time], y=esoData[modifiedPeso]),\n",
    "    row=2, col=1\n",
    ")\n",
    "\n",
    "fig.update_layout(height=600, width=800, title_text=\"Median -> Average -> FFT\")\n",
    "fig.show()\n"
   ]
  },
  {
   "cell_type": "code",
   "execution_count": null,
   "id": "bd674d0a",
   "metadata": {},
   "outputs": [],
   "source": [
    "px"
   ]
  },
  {
   "cell_type": "code",
   "execution_count": null,
   "id": "02251ad0",
   "metadata": {},
   "outputs": [],
   "source": [
    "esoData = halp.dynamic_moving_median(esoData,'1peso',150,20,10)\n"
   ]
  },
  {
   "cell_type": "code",
   "execution_count": null,
   "id": "2ce27ebe",
   "metadata": {},
   "outputs": [],
   "source": [
    "len(esoData['1peso']\n",
    "   )"
   ]
  },
  {
   "cell_type": "code",
   "execution_count": null,
   "id": "965f744b",
   "metadata": {},
   "outputs": [],
   "source": [
    "px.scatter(x=esoData['1Time'], y=esoData['1peso'])"
   ]
  },
  {
   "cell_type": "code",
   "execution_count": null,
   "id": "2e1ec45c",
   "metadata": {},
   "outputs": [],
   "source": [
    "esoData = halp.unsquare_moving_average(esoData, '1peso', 10)\n",
    "esoData['1peso'].sum()"
   ]
  },
  {
   "cell_type": "code",
   "execution_count": null,
   "id": "882f8360",
   "metadata": {},
   "outputs": [],
   "source": [
    "px.scatter(x=esoData['1Time'], y=esoData['1peso'])"
   ]
  },
  {
   "cell_type": "markdown",
   "id": "4dff9811",
   "metadata": {},
   "source": [
    "### Fast Fourier Transform ###"
   ]
  },
  {
   "cell_type": "code",
   "execution_count": null,
   "id": "5ab591fb",
   "metadata": {},
   "outputs": [],
   "source": [
    "#print(esoData.isnull().sum())\n",
    "\n",
    "esoData = esoData.dropna()\n",
    "\n",
    "#print(\"AFTER\")\n",
    "#print(esoData.isnull().sum())\n"
   ]
  },
  {
   "cell_type": "code",
   "execution_count": null,
   "id": "062fa713",
   "metadata": {},
   "outputs": [],
   "source": [
    "####FAST FOURIER TRANSFORM####\n",
    "esoData = esoData.dropna()\n",
    "from scipy.fft import fft, ifft,fftfreq\n",
    "Fs = 100 #Sampling freq\n",
    "tstep = 1/Fs #Sample time interval\n",
    "N = len(esoData) #num samples\n",
    "\n",
    "fstep = Fs/N #Freq interval\n",
    "\n",
    "f = fftfreq(N,1/Fs)\n",
    "\n",
    "#f = np.linspace(0,(N-1)*fstep,N) # freq steps\n",
    "fpositive=np.where(f>=0)\n",
    "\n",
    "#y = np.fft.fft(esoData['1peso'].to_numpy())\n",
    "y=fft(esoData['1peso'].to_numpy())\n",
    "y_mag = np.absolute(y[fpositive])/N\n",
    "\n",
    "#px.scatter(x=f[fpositive],y=y_mag)"
   ]
  },
  {
   "cell_type": "code",
   "execution_count": null,
   "id": "39808963",
   "metadata": {},
   "outputs": [],
   "source": [
    "f[0] = 0.001"
   ]
  },
  {
   "cell_type": "code",
   "execution_count": null,
   "id": "818d0f4f",
   "metadata": {},
   "outputs": [],
   "source": [
    "### FREQUENCY DOMAIN FILTERING ###\n",
    "freq_thr1 = 0.25\n",
    "#freq_thr2 = 0.10\n",
    "spectrum_filter = y*(np.absolute(f)<freq_thr1)\n",
    "#spectrum_filter = y*(np.absolute(f)>freq_thr2)\n",
    "signal_filter=ifft(spectrum_filter)\n",
    "\n",
    "spectrum_output=fft(signal_filter)"
   ]
  },
  {
   "cell_type": "markdown",
   "id": "bd14f8f6",
   "metadata": {},
   "source": [
    "# Median -> Average -> FFT\n",
    "## Plot pre-filter esoData, Frequency Spectrum, and post-filter esoData ##"
   ]
  },
  {
   "cell_type": "code",
   "execution_count": null,
   "id": "2a4683b0",
   "metadata": {},
   "outputs": [],
   "source": [
    "from plotly.subplots import make_subplots\n",
    "import plotly.graph_objects as go\n",
    "\n",
    "fig = make_subplots(rows=2, cols=2, subplot_titles = ('Pre-filter','Pre-Frequency Spectrum', 'Post-Frequency Spectrum','post-filter'))\n",
    "\n",
    "fig.add_trace(\n",
    "    go.Scatter(mode='markers',marker=dict(\n",
    "            size=1),x=esoData['1Time'].to_numpy(), y=esoData['1peso'].to_numpy()),\n",
    "    row=1, col=1\n",
    ")\n",
    "\n",
    "fig.add_trace(\n",
    "    go.Scatter(x=f[fpositive], y=np.absolute(y[fpositive])/N),\n",
    "    row=1, col=2\n",
    ")\n",
    "\n",
    "fig.add_trace(\n",
    "    go.Scatter(x=f[fpositive], y=np.absolute(spectrum_output[fpositive])/N),\n",
    "    row=2, col=1\n",
    ")\n",
    "\n",
    "fig.add_trace(\n",
    "    go.Scatter(mode='markers',marker=dict(\n",
    "            size=1),\n",
    "               x=esoData['1Time'], y=signal_filter.real),\n",
    "    row=2, col=2\n",
    ")\n",
    "\n",
    "fig.update_layout(height=600, width=800, title_text=\"Median -> Average -> FFT\")\n",
    "fig.show()"
   ]
  },
  {
   "cell_type": "markdown",
   "id": "91800289",
   "metadata": {},
   "source": [
    "#  FFT\n",
    "## Plot pre-filter esoData, Frequency Spectrum, and post-filter esoData ##"
   ]
  },
  {
   "cell_type": "code",
   "execution_count": null,
   "id": "703e7ae7",
   "metadata": {},
   "outputs": [],
   "source": [
    "#Return order is breatD, esoData, FFFT\n",
    "breathD, esoData, FFFT = halp.patientManager(11,\"entire\")\n",
    "\n",
    "#Create object holding vent setting\n",
    "Vent_Setting = halp.Ventilator()"
   ]
  },
  {
   "cell_type": "code",
   "execution_count": null,
   "id": "4579c99c",
   "metadata": {},
   "outputs": [],
   "source": [
    "####FAST FOURIER TRANSFORM####\n",
    "esoData = esoData.dropna()\n",
    "from scipy.fft import fft, ifft,fftfreq\n",
    "Fs = 100 #Sampling freq\n",
    "tstep = 1/Fs #Sample time interval\n",
    "N = len(esoData) #num samples\n",
    "\n",
    "fstep = Fs/N #Freq interval\n",
    "\n",
    "f = fftfreq(N,1/Fs)\n",
    "\n",
    "#f = np.linspace(0,(N-1)*fstep,N) # freq steps\n",
    "fpositive=np.where(f>=0)\n",
    "\n",
    "#y = np.fft.fft(esoData['1peso'].to_numpy())\n",
    "y=fft(esoData['1peso'].to_numpy())\n",
    "y_mag = np.absolute(y[fpositive])/N\n",
    "\n",
    "#px.scatter(x=f[fpositive],y=y_mag)"
   ]
  },
  {
   "cell_type": "code",
   "execution_count": null,
   "id": "a48b5fa3",
   "metadata": {},
   "outputs": [],
   "source": [
    "### FREQUENCY DOMAIN FILTERING ###\n",
    "freq_thr1 = 0.25\n",
    "#freq_thr2 = 0.10\n",
    "spectrum_filter = y*(np.absolute(f)<freq_thr1)\n",
    "#spectrum_filter = y*(np.absolute(f)>freq_thr2)\n",
    "signal_filter=ifft(spectrum_filter)\n",
    "\n",
    "spectrum_output=fft(signal_filter)"
   ]
  },
  {
   "cell_type": "code",
   "execution_count": null,
   "id": "dcf8278f",
   "metadata": {},
   "outputs": [],
   "source": [
    "from plotly.subplots import make_subplots\n",
    "import plotly.graph_objects as go\n",
    "\n",
    "fig = make_subplots(rows=2, cols=2, subplot_titles = ('Pre-filter','Pre-Frequency Spectrum', 'Post-Frequency Spectrum','post-filter'))\n",
    "\n",
    "fig.add_trace(\n",
    "    go.Scatter(mode='markers',marker=dict(\n",
    "            size=1),x=esoData['1Time'].to_numpy(), y=esoData['1peso'].to_numpy()),\n",
    "    row=1, col=1\n",
    ")\n",
    "\n",
    "fig.add_trace(\n",
    "    go.Scatter(x=f[fpositive], y=np.absolute(y[fpositive])/N),\n",
    "    row=1, col=2\n",
    ")\n",
    "\n",
    "fig.add_trace(\n",
    "    go.Scatter(x=f[fpositive], y=np.absolute(spectrum_output[fpositive])/N),\n",
    "    row=2, col=1\n",
    ")\n",
    "\n",
    "fig.add_trace(\n",
    "    go.Scatter(mode='markers',marker=dict(\n",
    "            size=1),\n",
    "               x=esoData['1Time'], y=signal_filter.real),\n",
    "    row=2, col=2\n",
    ")\n",
    "\n",
    "fig.update_layout(height=600, width=800, title_text=\"FFT\")\n",
    "fig.show()"
   ]
  },
  {
   "cell_type": "markdown",
   "id": "603911e7",
   "metadata": {},
   "source": [
    "# FFT -> Median -> Average"
   ]
  },
  {
   "cell_type": "code",
   "execution_count": null,
   "id": "f82de97e",
   "metadata": {},
   "outputs": [],
   "source": [
    "#Return order is breatD, esoData, FFFT\n",
    "breathD, esoData, FFFT = halp.patientManager(11,\"entire\")\n",
    "\n",
    "#Create object holding vent setting\n",
    "Vent_Setting = halp.Ventilator()"
   ]
  },
  {
   "cell_type": "code",
   "execution_count": null,
   "id": "d10da059",
   "metadata": {},
   "outputs": [],
   "source": [
    "####FAST FOURIER TRANSFORM####\n",
    "esoData = esoData.dropna()\n",
    "from scipy.fft import fft, ifft,fftfreq\n",
    "Fs = 100 #Sampling freq\n",
    "tstep = 1/Fs #Sample time interval\n",
    "N = len(esoData) #num samples\n",
    "\n",
    "fstep = Fs/N #Freq interval\n",
    "\n",
    "f = fftfreq(N,1/Fs)\n",
    "\n",
    "#f = np.linspace(0,(N-1)*fstep,N) # freq steps\n",
    "fpositive=np.where(f>=0)\n",
    "\n",
    "#y = np.fft.fft(esoData['1peso'].to_numpy())\n",
    "y=fft(esoData['1peso'].to_numpy())\n",
    "y_mag = np.absolute(y[fpositive])/N\n",
    "\n",
    "#px.scatter(x=f[fpositive],y=y_mag)"
   ]
  },
  {
   "cell_type": "code",
   "execution_count": null,
   "id": "0c267b7d",
   "metadata": {},
   "outputs": [],
   "source": [
    "### FREQUENCY DOMAIN FILTERING ###\n",
    "freq_thr1 = 0.25\n",
    "#freq_thr2 = 0.10\n",
    "spectrum_filter = y*(np.absolute(f)<freq_thr1)\n",
    "#spectrum_filter = y*(np.absolute(f)>freq_thr2)\n",
    "signal_filter=ifft(spectrum_filter)\n",
    "\n",
    "spectrum_output=fft(signal_filter)"
   ]
  },
  {
   "cell_type": "code",
   "execution_count": null,
   "id": "f1ee9a76",
   "metadata": {},
   "outputs": [],
   "source": [
    "df = pd.DataFrame(signal_filter.real,columns=['1peso'])\n",
    "\n",
    "for i in range(len(df)):\n",
    "    df.at[i,'1Time'] = i"
   ]
  },
  {
   "cell_type": "code",
   "execution_count": null,
   "id": "c55808c4",
   "metadata": {},
   "outputs": [],
   "source": [
    "df"
   ]
  },
  {
   "cell_type": "code",
   "execution_count": null,
   "id": "ec212741",
   "metadata": {},
   "outputs": [],
   "source": [
    "df = halp.dynamic_moving_median(df,'1peso',150,20,10)\n",
    "df = halp.unsquare_moving_average(df, '1peso', 10)\n"
   ]
  },
  {
   "cell_type": "code",
   "execution_count": null,
   "id": "3c083595",
   "metadata": {},
   "outputs": [],
   "source": [
    "from plotly.subplots import make_subplots\n",
    "import plotly.graph_objects as go\n",
    "\n",
    "fig = make_subplots(rows=2, cols=2, subplot_titles = ('Pre-filter','Pre-Frequency Spectrum', 'Post-Frequency Spectrum','post-filter'))\n",
    "\n",
    "fig.add_trace(\n",
    "    go.Scatter(mode='markers',marker=dict(\n",
    "            size=1),x=esoData['1Time'].to_numpy(), y=esoData['1peso'].to_numpy()),\n",
    "    row=1, col=1\n",
    ")\n",
    "\n",
    "fig.add_trace(\n",
    "    go.Scatter(x=f[fpositive], y=np.absolute(y[fpositive])/N),\n",
    "    row=1, col=2\n",
    ")\n",
    "\n",
    "fig.add_trace(\n",
    "    go.Scatter(x=f[fpositive], y=np.absolute(spectrum_output[fpositive])/N),\n",
    "    row=2, col=1\n",
    ")\n",
    "\n",
    "fig.add_trace(\n",
    "    go.Scatter(mode='markers',marker=dict(\n",
    "            size=1),\n",
    "               x=df['1Time'], y=df['1peso']),\n",
    "    row=2, col=2\n",
    ")\n",
    "\n",
    "fig.update_layout(height=600, width=800, title_text=\"FFT -> Median -> Average\")\n",
    "fig.show()"
   ]
  },
  {
   "cell_type": "markdown",
   "id": "37dc3d26",
   "metadata": {},
   "source": [
    "# Visualizing cost function form (median & average filter)"
   ]
  },
  {
   "cell_type": "code",
   "execution_count": null,
   "id": "014a374b",
   "metadata": {},
   "outputs": [],
   "source": [
    "Corrupted_Patients = [2,3,4,5,6,7,8,9,12,16,17,19,20,21]\n",
    "\n",
    "#Amt of patients\n",
    "color = comp_halp.color\n",
    "hk_patient = {}\n",
    "hk_cost_form = {}\n",
    "patients = 22\n",
    "for patient in range(1,patients+1):\n",
    "    if patient not in Corrupted_Patients:\n",
    "        if patient == 11:\n",
    "            \n",
    "            #Load individual patient data\n",
    "            print(color.BOLD +  f\"Current Patient: {patient}\"  + color.END)\n",
    "            breathD, esoData, FFFT = halp.patientManager(patient,\"entire\")\n",
    "            print(\"Data Loaded\")\n",
    "            #Filter data\n",
    "            esoData = comp_halp.data_Filtering(esoData,verbose=True)\n",
    "            print(\"Data Filtered\")\n",
    "            #Divide into bins\n",
    "            esoData_bins = comp_halp.bin_divider(esoData,breathD,verbose=False)\n",
    "            print(\"esoData bin divided\")\n",
    "            #Perform grid search\n",
    "            hk_patient[patient] = comp_halp.grid_search(esoData, esoData_bins,breathD,patient,verbose=False)"
   ]
  },
  {
   "cell_type": "code",
   "execution_count": null,
   "id": "5d5d13b2",
   "metadata": {},
   "outputs": [],
   "source": [
    "C_range = np.arange(100,400,0.5)\n",
    "pd_dict = hk_patient[11][1]['hk_breath'][7]['cost_form']\n",
    "df = pd.DataFrame(columns=['C','j'], index = range(len(C_range)))\n",
    "\n",
    "for c in range(len(C_range)):\n",
    "    df.at[c,\"C\"] = C_range[c]\n",
    "    df.at[c,\"j\"] = pd_dict[C_range[c]]\n",
    "    "
   ]
  },
  {
   "cell_type": "code",
   "execution_count": null,
   "id": "e6eec547",
   "metadata": {},
   "outputs": [],
   "source": [
    "px.scatter(x=df['C'],y=df['j'])"
   ]
  },
  {
   "cell_type": "code",
   "execution_count": null,
   "id": "a7b59467",
   "metadata": {},
   "outputs": [],
   "source": [
    "import plotly\n",
    "import plotly.graph_objs as go\n",
    "import numpy as np\n",
    "\n",
    "Years = ['2000-2008',np.nan,'2008-2010',np.nan,'2015-2017',np.nan,'2018-2020',np.nan,\n",
    "         '2020-2021',np.nan,'2021-2022',np.nan,'2022-2023',np.nan,'2023']\n",
    "y = [0.1,1,\n",
    "     0.65,1,\n",
    "     0.75,1,\n",
    "     0.5,1,\n",
    "     0.8,1,\n",
    "     0.6,1,\n",
    "     0.90,1,\n",
    "     0.95]\n",
    "Activity = ['Gaming Muscles',np.nan,'Parkour',np.nan,'Strength Training',np.nan,'Yoga',\n",
    "            np.nan,'Yoga+Calisthenics',np.nan,'Yoga',np.nan,'Yoga+Powerlifting',np.nan,'BB+Control']\n",
    "\n",
    "#d = {'years' : Years, 'y' : y, 'Activity' : Activity}\n",
    "\n",
    "#data = pd.DataFrame(data=d)\n",
    "layout = go.Layout(\n",
    "    title=\"Rough Timeline\",\n",
    "    xaxis=dict(\n",
    "        title=\"Timeframe (years)\"\n",
    "    ),\n",
    "    yaxis=dict(\n",
    "        title=\"Seriousness (%)\"\n",
    "    ) )\n",
    "\n",
    "fig = go.Figure(layout=layout)\n",
    "\n",
    "fig.add_trace(go.Scatter(mode='lines+markers+text',\n",
    "                         textposition='top center',\n",
    "                        x=Years,\n",
    "                        y=y,\n",
    "                        text=Activity)\n",
    "             )\n",
    "\n",
    "#px.scatter(data,x='years', y='y', text=Activity)\n",
    "\n",
    " \n",
    "\n",
    "\n",
    "\n",
    "\n",
    "\n",
    "fig.show()"
   ]
  },
  {
   "cell_type": "code",
   "execution_count": null,
   "id": "cf53c3d1",
   "metadata": {},
   "outputs": [],
   "source": []
  }
 ],
 "metadata": {
  "kernelspec": {
   "display_name": "Python 3 (ipykernel)",
   "language": "python",
   "name": "python3"
  },
  "language_info": {
   "codemirror_mode": {
    "name": "ipython",
    "version": 3
   },
   "file_extension": ".py",
   "mimetype": "text/x-python",
   "name": "python",
   "nbconvert_exporter": "python",
   "pygments_lexer": "ipython3",
   "version": "3.10.9"
  }
 },
 "nbformat": 4,
 "nbformat_minor": 5
}
