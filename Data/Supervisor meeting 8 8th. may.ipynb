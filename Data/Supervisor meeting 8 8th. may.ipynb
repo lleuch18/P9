{
 "cells": [
  {
   "cell_type": "markdown",
   "id": "a6a0892b",
   "metadata": {},
   "source": [
    "# Supervisor Meeting 8"
   ]
  },
  {
   "cell_type": "markdown",
   "id": "122d31d4",
   "metadata": {},
   "source": [
    "### Imports"
   ]
  },
  {
   "cell_type": "code",
   "execution_count": 1,
   "id": "cb8d13a9",
   "metadata": {},
   "outputs": [],
   "source": [
    "import plotly.express as px\n",
    "import pandas as pd\n",
    "import numpy as np\n",
    "import Data_Explo_HELPER as halp\n",
    "import Compl_Algo_Helper as comp_halp\n",
    "import Peak_Helper as peak_halp"
   ]
  },
  {
   "cell_type": "markdown",
   "id": "6c33c27e",
   "metadata": {},
   "source": [
    "# 1. Show discrepancies between breathD and actual breath amount"
   ]
  },
  {
   "cell_type": "markdown",
   "id": "70f26e6f",
   "metadata": {},
   "source": [
    "### Add and plot insp_start, exp_start and expVolStart"
   ]
  },
  {
   "cell_type": "code",
   "execution_count": 2,
   "id": "9e913d34",
   "metadata": {},
   "outputs": [
    {
     "name": "stdout",
     "output_type": "stream",
     "text": [
      "Made it to breath: 100 in part: 1\n",
      "Made it to breath: 100 in part: 2\n",
      "Made it to breath: 100 in part: 3\n",
      "Made it to breath: 100 in part: 4\n",
      "Made it to breath: 100 in part: 5\n",
      "Made it to breath: 100 in part: 6\n",
      "Made it to breath: 100 in part: 7\n",
      "Made it to breath: 100 in part: 8\n"
     ]
    }
   ],
   "source": [
    "#Set patient\n",
    "patient = 11\n",
    "\n",
    "\n",
    "\n",
    "#load data\n",
    "breathD,esoData,FFFT = halp.patientManager(patient,'entire')\n",
    "\n",
    "\n",
    "\n",
    "esoData = peak_halp.insp_Adder(esoData,breathD)\n",
    "\n"
   ]
  },
  {
   "cell_type": "code",
   "execution_count": 7,
   "id": "17b5e0b4",
   "metadata": {},
   "outputs": [
    {
     "ename": "KeyError",
     "evalue": "'1inspStart'",
     "output_type": "error",
     "traceback": [
      "\u001b[1;31m---------------------------------------------------------------------------\u001b[0m",
      "\u001b[1;31mKeyError\u001b[0m                                  Traceback (most recent call last)",
      "File \u001b[1;32m~\\anaconda3\\envs\\Python10\\lib\\site-packages\\pandas\\core\\indexes\\base.py:3802\u001b[0m, in \u001b[0;36mIndex.get_loc\u001b[1;34m(self, key, method, tolerance)\u001b[0m\n\u001b[0;32m   3801\u001b[0m \u001b[38;5;28;01mtry\u001b[39;00m:\n\u001b[1;32m-> 3802\u001b[0m     \u001b[38;5;28;01mreturn\u001b[39;00m \u001b[38;5;28;43mself\u001b[39;49m\u001b[38;5;241;43m.\u001b[39;49m\u001b[43m_engine\u001b[49m\u001b[38;5;241;43m.\u001b[39;49m\u001b[43mget_loc\u001b[49m\u001b[43m(\u001b[49m\u001b[43mcasted_key\u001b[49m\u001b[43m)\u001b[49m\n\u001b[0;32m   3803\u001b[0m \u001b[38;5;28;01mexcept\u001b[39;00m \u001b[38;5;167;01mKeyError\u001b[39;00m \u001b[38;5;28;01mas\u001b[39;00m err:\n",
      "File \u001b[1;32m~\\anaconda3\\envs\\Python10\\lib\\site-packages\\pandas\\_libs\\index.pyx:138\u001b[0m, in \u001b[0;36mpandas._libs.index.IndexEngine.get_loc\u001b[1;34m()\u001b[0m\n",
      "File \u001b[1;32m~\\anaconda3\\envs\\Python10\\lib\\site-packages\\pandas\\_libs\\index.pyx:165\u001b[0m, in \u001b[0;36mpandas._libs.index.IndexEngine.get_loc\u001b[1;34m()\u001b[0m\n",
      "File \u001b[1;32mpandas\\_libs\\hashtable_class_helper.pxi:5745\u001b[0m, in \u001b[0;36mpandas._libs.hashtable.PyObjectHashTable.get_item\u001b[1;34m()\u001b[0m\n",
      "File \u001b[1;32mpandas\\_libs\\hashtable_class_helper.pxi:5753\u001b[0m, in \u001b[0;36mpandas._libs.hashtable.PyObjectHashTable.get_item\u001b[1;34m()\u001b[0m\n",
      "\u001b[1;31mKeyError\u001b[0m: '1inspStart'",
      "\nThe above exception was the direct cause of the following exception:\n",
      "\u001b[1;31mKeyError\u001b[0m                                  Traceback (most recent call last)",
      "Cell \u001b[1;32mIn[7], line 8\u001b[0m\n\u001b[0;32m      5\u001b[0m     \u001b[38;5;28;01mreturn\u001b[39;00m row\n\u001b[0;32m      7\u001b[0m esoData[\u001b[38;5;124m'\u001b[39m\u001b[38;5;124m1ModifiedFlow\u001b[39m\u001b[38;5;124m'\u001b[39m] \u001b[38;5;241m=\u001b[39m esoData[\u001b[38;5;124m'\u001b[39m\u001b[38;5;124m1ModifiedFlow\u001b[39m\u001b[38;5;124m'\u001b[39m]\u001b[38;5;241m.\u001b[39mapply(\u001b[38;5;28;01mlambda\u001b[39;00m row: zeroin(row))\n\u001b[1;32m----> 8\u001b[0m \u001b[43mpeak_halp\u001b[49m\u001b[38;5;241;43m.\u001b[39;49m\u001b[43minsp_plotter\u001b[49m\u001b[43m(\u001b[49m\u001b[43mesoData\u001b[49m\u001b[43m,\u001b[49m\u001b[43mpart\u001b[49m\u001b[43m,\u001b[49m\u001b[43meso\u001b[49m\u001b[38;5;241;43m=\u001b[39;49m\u001b[38;5;28;43;01mTrue\u001b[39;49;00m\u001b[43m,\u001b[49m\u001b[43mpao\u001b[49m\u001b[38;5;241;43m=\u001b[39;49m\u001b[38;5;28;43;01mTrue\u001b[39;49;00m\u001b[43m,\u001b[49m\u001b[43mflow\u001b[49m\u001b[38;5;241;43m=\u001b[39;49m\u001b[38;5;28;43;01mTrue\u001b[39;49;00m\u001b[43m)\u001b[49m\n",
      "File \u001b[1;32m~\\OneDrive\\Skrivebord\\ST9\\P9\\Data\\Peak_Helper.py:173\u001b[0m, in \u001b[0;36minsp_plotter\u001b[1;34m(esoData, part, eso, pao, flow)\u001b[0m\n\u001b[0;32m    166\u001b[0m fig \u001b[38;5;241m=\u001b[39m make_subplots(rows\u001b[38;5;241m=\u001b[39m\u001b[38;5;241m3\u001b[39m,cols\u001b[38;5;241m=\u001b[39m\u001b[38;5;241m1\u001b[39m,subplot_titles \u001b[38;5;241m=\u001b[39m (ModifiedPao,ModifiedPeso,ModifiedFlow))\n\u001b[0;32m    167\u001b[0m \u001b[38;5;28;01mif\u001b[39;00m eso \u001b[38;5;241m==\u001b[39m \u001b[38;5;28;01mTrue\u001b[39;00m:\n\u001b[0;32m    168\u001b[0m     trace1 \u001b[38;5;241m=\u001b[39m go\u001b[38;5;241m.\u001b[39mScatter(\n\u001b[0;32m    169\u001b[0m         x\u001b[38;5;241m=\u001b[39mesoData[Time],\n\u001b[0;32m    170\u001b[0m         y\u001b[38;5;241m=\u001b[39mesoData[ModifiedPao],\n\u001b[0;32m    171\u001b[0m         mode\u001b[38;5;241m=\u001b[39m\u001b[38;5;124m'\u001b[39m\u001b[38;5;124mmarkers+text\u001b[39m\u001b[38;5;124m'\u001b[39m,\n\u001b[0;32m    172\u001b[0m         textposition\u001b[38;5;241m=\u001b[39m\u001b[38;5;124m'\u001b[39m\u001b[38;5;124mtop center\u001b[39m\u001b[38;5;124m'\u001b[39m,\n\u001b[1;32m--> 173\u001b[0m         text\u001b[38;5;241m=\u001b[39m\u001b[43mesoData\u001b[49m\u001b[43m[\u001b[49m\u001b[43minspStart\u001b[49m\u001b[43m]\u001b[49m,\n\u001b[0;32m    174\u001b[0m         name\u001b[38;5;241m=\u001b[39mModifiedPao,\n\u001b[0;32m    175\u001b[0m         marker\u001b[38;5;241m=\u001b[39m\u001b[38;5;28mdict\u001b[39m(\n\u001b[0;32m    176\u001b[0m             color\u001b[38;5;241m=\u001b[39m\u001b[38;5;124m'\u001b[39m\u001b[38;5;124mgreen\u001b[39m\u001b[38;5;124m'\u001b[39m,\n\u001b[0;32m    177\u001b[0m             size\u001b[38;5;241m=\u001b[39m\u001b[38;5;241m1\u001b[39m\n\u001b[0;32m    178\u001b[0m                    )\n\u001b[0;32m    179\u001b[0m     )\n\u001b[0;32m    180\u001b[0m     fig\u001b[38;5;241m.\u001b[39madd_trace(trace1,row\u001b[38;5;241m=\u001b[39m\u001b[38;5;241m1\u001b[39m,col\u001b[38;5;241m=\u001b[39m\u001b[38;5;241m1\u001b[39m)\n\u001b[0;32m    182\u001b[0m \u001b[38;5;28;01mif\u001b[39;00m pao \u001b[38;5;241m==\u001b[39m \u001b[38;5;28;01mTrue\u001b[39;00m:\n",
      "File \u001b[1;32m~\\anaconda3\\envs\\Python10\\lib\\site-packages\\pandas\\core\\frame.py:3807\u001b[0m, in \u001b[0;36mDataFrame.__getitem__\u001b[1;34m(self, key)\u001b[0m\n\u001b[0;32m   3805\u001b[0m \u001b[38;5;28;01mif\u001b[39;00m \u001b[38;5;28mself\u001b[39m\u001b[38;5;241m.\u001b[39mcolumns\u001b[38;5;241m.\u001b[39mnlevels \u001b[38;5;241m>\u001b[39m \u001b[38;5;241m1\u001b[39m:\n\u001b[0;32m   3806\u001b[0m     \u001b[38;5;28;01mreturn\u001b[39;00m \u001b[38;5;28mself\u001b[39m\u001b[38;5;241m.\u001b[39m_getitem_multilevel(key)\n\u001b[1;32m-> 3807\u001b[0m indexer \u001b[38;5;241m=\u001b[39m \u001b[38;5;28;43mself\u001b[39;49m\u001b[38;5;241;43m.\u001b[39;49m\u001b[43mcolumns\u001b[49m\u001b[38;5;241;43m.\u001b[39;49m\u001b[43mget_loc\u001b[49m\u001b[43m(\u001b[49m\u001b[43mkey\u001b[49m\u001b[43m)\u001b[49m\n\u001b[0;32m   3808\u001b[0m \u001b[38;5;28;01mif\u001b[39;00m is_integer(indexer):\n\u001b[0;32m   3809\u001b[0m     indexer \u001b[38;5;241m=\u001b[39m [indexer]\n",
      "File \u001b[1;32m~\\anaconda3\\envs\\Python10\\lib\\site-packages\\pandas\\core\\indexes\\base.py:3804\u001b[0m, in \u001b[0;36mIndex.get_loc\u001b[1;34m(self, key, method, tolerance)\u001b[0m\n\u001b[0;32m   3802\u001b[0m     \u001b[38;5;28;01mreturn\u001b[39;00m \u001b[38;5;28mself\u001b[39m\u001b[38;5;241m.\u001b[39m_engine\u001b[38;5;241m.\u001b[39mget_loc(casted_key)\n\u001b[0;32m   3803\u001b[0m \u001b[38;5;28;01mexcept\u001b[39;00m \u001b[38;5;167;01mKeyError\u001b[39;00m \u001b[38;5;28;01mas\u001b[39;00m err:\n\u001b[1;32m-> 3804\u001b[0m     \u001b[38;5;28;01mraise\u001b[39;00m \u001b[38;5;167;01mKeyError\u001b[39;00m(key) \u001b[38;5;28;01mfrom\u001b[39;00m \u001b[38;5;21;01merr\u001b[39;00m\n\u001b[0;32m   3805\u001b[0m \u001b[38;5;28;01mexcept\u001b[39;00m \u001b[38;5;167;01mTypeError\u001b[39;00m:\n\u001b[0;32m   3806\u001b[0m     \u001b[38;5;66;03m# If we have a listlike key, _check_indexing_error will raise\u001b[39;00m\n\u001b[0;32m   3807\u001b[0m     \u001b[38;5;66;03m#  InvalidIndexError. Otherwise we fall through and re-raise\u001b[39;00m\n\u001b[0;32m   3808\u001b[0m     \u001b[38;5;66;03m#  the TypeError.\u001b[39;00m\n\u001b[0;32m   3809\u001b[0m     \u001b[38;5;28mself\u001b[39m\u001b[38;5;241m.\u001b[39m_check_indexing_error(key)\n",
      "\u001b[1;31mKeyError\u001b[0m: '1inspStart'"
     ]
    }
   ],
   "source": [
    "part = 1\n",
    "peak_halp.insp_plotter(esoData,part,eso=True,pao=True,flow=True)"
   ]
  },
  {
   "cell_type": "markdown",
   "id": "ac29e5d0",
   "metadata": {},
   "source": [
    "### Add Peaks and Plot ModifiedPao and ModifiedPeso\n"
   ]
  },
  {
   "cell_type": "code",
   "execution_count": 6,
   "id": "c3476328",
   "metadata": {},
   "outputs": [],
   "source": [
    "#Set patient\n",
    "patient = 11\n",
    "\n",
    "\n",
    "\n",
    "#load data\n",
    "breathD,esoData,FFFT = halp.patientManager(patient,'entire')\n",
    "\n",
    "part = 1\n",
    "\n",
    "\n",
    "\n",
    "\n",
    "\n",
    "\n",
    "esoData = peak_halp.peak_adder(patient,esoData,pesoHeight=-3,pesoDistance=150,paoHeight=11.5,paoDistance=150)\n",
    "\n",
    "\n",
    "peak_halp.peak_plotter(part,esoData)"
   ]
  }
 ],
 "metadata": {
  "kernelspec": {
   "display_name": "Python 3 (ipykernel)",
   "language": "python",
   "name": "python3"
  },
  "language_info": {
   "codemirror_mode": {
    "name": "ipython",
    "version": 3
   },
   "file_extension": ".py",
   "mimetype": "text/x-python",
   "name": "python",
   "nbconvert_exporter": "python",
   "pygments_lexer": "ipython3",
   "version": "3.10.9"
  }
 },
 "nbformat": 4,
 "nbformat_minor": 5
}
